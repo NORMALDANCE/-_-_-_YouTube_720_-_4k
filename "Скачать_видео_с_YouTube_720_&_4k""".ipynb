{
  "cells": [
    {
      "cell_type": "markdown",
      "metadata": {
        "id": "view-in-github",
        "colab_type": "text"
      },
      "source": [
        "<a href=\"https://colab.research.google.com/github/NORMALDANCE/-_-_-_YouTube_720_-_4k/blob/main/%22%D0%A1%D0%BA%D0%B0%D1%87%D0%B0%D1%82%D1%8C_%D0%B2%D0%B8%D0%B4%D0%B5%D0%BE_%D1%81_YouTube_720_%26_4k%22%22%22.ipynb\" target=\"_parent\"><img src=\"https://colab.research.google.com/assets/colab-badge.svg\" alt=\"Open In Colab\"/></a>"
      ]
    },
    {
      "cell_type": "code",
      "execution_count": null,
      "metadata": {
        "id": "TMV7aTtnKxVS"
      },
      "outputs": [],
      "source": [
        "from google.colab import drive\n",
        "import os, sys\n",
        "drive.mount('/content/drive')\n",
        "os.chdir(\"/content/drive/My Drive/\")\n"
      ]
    },
    {
      "cell_type": "code",
      "execution_count": null,
      "metadata": {
        "id": "TvLQQ8BlK2xW"
      },
      "outputs": [],
      "source": [
        "!pip install yt_dlp\n"
      ]
    },
    {
      "cell_type": "code",
      "source": [
        "import yt_dlp\n",
        "\n",
        "# Настройки для скачивания 4K видео\n",
        "ydl_opts = {\n",
        "    'format': 'bestvideo[height=2160]+bestaudio/best',  # Используем кодек av01 для 4K видео\n",
        "    'merge_output_format': 'mp4',                       # Объединение видео и аудио в формате mp4\n",
        "    'outtmpl': './Download/%(title)s.%(ext)s'           # Путь и формат имени файла\n",
        "}\n",
        "\n",
        "# Ссылка на видео\n",
        "URLS = ['https://vk.com/andykachess?z=video-228843351_456239017%2Fc0932ae2dc18fc2ba0%2Fpl_wall_423768705']  # Замените на нужную ссылку\n",
        "\n",
        "# Скачивание видео\n",
        "with yt_dlp.YoutubeDL(ydl_opts) as ydl:\n",
        "    ydl.download(URLS)"
      ],
      "metadata": {
        "id": "mgeKAfkdGYlb"
      },
      "execution_count": null,
      "outputs": []
    }
  ],
  "metadata": {
    "colab": {
      "provenance": [],
      "include_colab_link": true
    },
    "kernelspec": {
      "display_name": "Python 3",
      "name": "python3"
    },
    "language_info": {
      "name": "python"
    }
  },
  "nbformat": 4,
  "nbformat_minor": 0
}